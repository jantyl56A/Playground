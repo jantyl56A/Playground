{
 "cells": [
  {
   "cell_type": "code",
   "execution_count": 286,
   "metadata": {},
   "outputs": [],
   "source": [
    "import numpy as np\n",
    "import pandas as pd\n",
    "import csv\n",
    "from sklearn.linear_model import LogisticRegression\n",
    "from sklearn.model_selection import train_test_split\n",
    "from sklearn.metrics import confusion_matrix\n",
    "import matplotlib.pyplot as plt\n",
    "import seaborn as sns"
   ]
  },
  {
   "cell_type": "code",
   "execution_count": 287,
   "metadata": {},
   "outputs": [
    {
     "data": {
      "text/html": [
       "<div>\n",
       "<style scoped>\n",
       "    .dataframe tbody tr th:only-of-type {\n",
       "        vertical-align: middle;\n",
       "    }\n",
       "\n",
       "    .dataframe tbody tr th {\n",
       "        vertical-align: top;\n",
       "    }\n",
       "\n",
       "    .dataframe thead th {\n",
       "        text-align: right;\n",
       "    }\n",
       "</style>\n",
       "<table border=\"1\" class=\"dataframe\">\n",
       "  <thead>\n",
       "    <tr style=\"text-align: right;\">\n",
       "      <th></th>\n",
       "      <th>DAY_OF_MONTH</th>\n",
       "      <th>DAY_OF_WEEK</th>\n",
       "      <th>ORIGIN</th>\n",
       "      <th>DEST</th>\n",
       "      <th>CRS_DEP_TIME</th>\n",
       "      <th>CRS_ARR_TIME</th>\n",
       "      <th>ARR_DELAY</th>\n",
       "      <th>ARR_DEL15</th>\n",
       "      <th>CRS_ELAPSED_TIME</th>\n",
       "      <th>ACTUAL_ELAPSED_TIME</th>\n",
       "      <th>DISTANCE</th>\n",
       "    </tr>\n",
       "  </thead>\n",
       "  <tbody>\n",
       "    <tr>\n",
       "      <th>0</th>\n",
       "      <td>1</td>\n",
       "      <td>2</td>\n",
       "      <td>ORD</td>\n",
       "      <td>DEN</td>\n",
       "      <td>530</td>\n",
       "      <td>716</td>\n",
       "      <td>-35</td>\n",
       "      <td>0</td>\n",
       "      <td>166</td>\n",
       "      <td>137</td>\n",
       "      <td>888</td>\n",
       "    </tr>\n",
       "    <tr>\n",
       "      <th>1</th>\n",
       "      <td>1</td>\n",
       "      <td>2</td>\n",
       "      <td>ORD</td>\n",
       "      <td>DEN</td>\n",
       "      <td>1445</td>\n",
       "      <td>1640</td>\n",
       "      <td>-30</td>\n",
       "      <td>0</td>\n",
       "      <td>175</td>\n",
       "      <td>142</td>\n",
       "      <td>888</td>\n",
       "    </tr>\n",
       "    <tr>\n",
       "      <th>2</th>\n",
       "      <td>1</td>\n",
       "      <td>2</td>\n",
       "      <td>ORD</td>\n",
       "      <td>DEN</td>\n",
       "      <td>716</td>\n",
       "      <td>904</td>\n",
       "      <td>-26</td>\n",
       "      <td>0</td>\n",
       "      <td>168</td>\n",
       "      <td>138</td>\n",
       "      <td>888</td>\n",
       "    </tr>\n",
       "    <tr>\n",
       "      <th>3</th>\n",
       "      <td>1</td>\n",
       "      <td>2</td>\n",
       "      <td>ORD</td>\n",
       "      <td>DEN</td>\n",
       "      <td>1937</td>\n",
       "      <td>2118</td>\n",
       "      <td>-22</td>\n",
       "      <td>0</td>\n",
       "      <td>161</td>\n",
       "      <td>142</td>\n",
       "      <td>888</td>\n",
       "    </tr>\n",
       "    <tr>\n",
       "      <th>4</th>\n",
       "      <td>1</td>\n",
       "      <td>2</td>\n",
       "      <td>SFO</td>\n",
       "      <td>DEN</td>\n",
       "      <td>1652</td>\n",
       "      <td>2027</td>\n",
       "      <td>-19</td>\n",
       "      <td>0</td>\n",
       "      <td>155</td>\n",
       "      <td>141</td>\n",
       "      <td>967</td>\n",
       "    </tr>\n",
       "  </tbody>\n",
       "</table>\n",
       "</div>"
      ],
      "text/plain": [
       "   DAY_OF_MONTH  DAY_OF_WEEK ORIGIN DEST  CRS_DEP_TIME  CRS_ARR_TIME  \\\n",
       "0             1            2    ORD  DEN           530           716   \n",
       "1             1            2    ORD  DEN          1445          1640   \n",
       "2             1            2    ORD  DEN           716           904   \n",
       "3             1            2    ORD  DEN          1937          2118   \n",
       "4             1            2    SFO  DEN          1652          2027   \n",
       "\n",
       "   ARR_DELAY  ARR_DEL15  CRS_ELAPSED_TIME  ACTUAL_ELAPSED_TIME  DISTANCE  \n",
       "0        -35          0               166                  137       888  \n",
       "1        -30          0               175                  142       888  \n",
       "2        -26          0               168                  138       888  \n",
       "3        -22          0               161                  142       888  \n",
       "4        -19          0               155                  141       967  "
      ]
     },
     "execution_count": 287,
     "metadata": {},
     "output_type": "execute_result"
    }
   ],
   "source": [
    "import os\n",
    "os.getcwd() \n",
    "df = pd.read_csv(r\"downloads/delay-UA-messy.csv\", sep=';')\n",
    "df.head()\n",
    "\n"
   ]
  },
  {
   "cell_type": "code",
   "execution_count": 288,
   "metadata": {},
   "outputs": [
    {
     "name": "stdout",
     "output_type": "stream",
     "text": [
      "<class 'pandas.core.frame.DataFrame'>\n",
      "RangeIndex: 3897 entries, 0 to 3896\n",
      "Data columns (total 11 columns):\n",
      " #   Column               Non-Null Count  Dtype \n",
      "---  ------               --------------  ----- \n",
      " 0   DAY_OF_MONTH         3897 non-null   int64 \n",
      " 1   DAY_OF_WEEK          3897 non-null   int64 \n",
      " 2   ORIGIN               3897 non-null   object\n",
      " 3   DEST                 3897 non-null   object\n",
      " 4   CRS_DEP_TIME         3897 non-null   int64 \n",
      " 5   CRS_ARR_TIME         3897 non-null   int64 \n",
      " 6   ARR_DELAY            3897 non-null   int64 \n",
      " 7   ARR_DEL15            3897 non-null   int64 \n",
      " 8   CRS_ELAPSED_TIME     3897 non-null   int64 \n",
      " 9   ACTUAL_ELAPSED_TIME  3897 non-null   int64 \n",
      " 10  DISTANCE             3897 non-null   int64 \n",
      "dtypes: int64(9), object(2)\n",
      "memory usage: 335.0+ KB\n"
     ]
    }
   ],
   "source": [
    "df.info()"
   ]
  },
  {
   "cell_type": "code",
   "execution_count": 289,
   "metadata": {},
   "outputs": [
    {
     "data": {
      "text/html": [
       "<div>\n",
       "<style scoped>\n",
       "    .dataframe tbody tr th:only-of-type {\n",
       "        vertical-align: middle;\n",
       "    }\n",
       "\n",
       "    .dataframe tbody tr th {\n",
       "        vertical-align: top;\n",
       "    }\n",
       "\n",
       "    .dataframe thead th {\n",
       "        text-align: right;\n",
       "    }\n",
       "</style>\n",
       "<table border=\"1\" class=\"dataframe\">\n",
       "  <thead>\n",
       "    <tr style=\"text-align: right;\">\n",
       "      <th></th>\n",
       "      <th>DAY_OF_MONTH</th>\n",
       "      <th>DAY_OF_WEEK</th>\n",
       "      <th>CRS_DEP_TIME</th>\n",
       "      <th>CRS_ARR_TIME</th>\n",
       "      <th>ARR_DELAY</th>\n",
       "      <th>ARR_DEL15</th>\n",
       "      <th>CRS_ELAPSED_TIME</th>\n",
       "      <th>ACTUAL_ELAPSED_TIME</th>\n",
       "      <th>DISTANCE</th>\n",
       "    </tr>\n",
       "  </thead>\n",
       "  <tbody>\n",
       "    <tr>\n",
       "      <th>count</th>\n",
       "      <td>3897.000000</td>\n",
       "      <td>3897.000000</td>\n",
       "      <td>3897.000000</td>\n",
       "      <td>3897.000000</td>\n",
       "      <td>3897.000000</td>\n",
       "      <td>3897.000000</td>\n",
       "      <td>3897.000000</td>\n",
       "      <td>3897.000000</td>\n",
       "      <td>3897.000000</td>\n",
       "    </tr>\n",
       "    <tr>\n",
       "      <th>mean</th>\n",
       "      <td>16.316397</td>\n",
       "      <td>3.833718</td>\n",
       "      <td>1290.279189</td>\n",
       "      <td>1483.204003</td>\n",
       "      <td>16.257891</td>\n",
       "      <td>0.271747</td>\n",
       "      <td>195.208622</td>\n",
       "      <td>185.447524</td>\n",
       "      <td>1210.371311</td>\n",
       "    </tr>\n",
       "    <tr>\n",
       "      <th>std</th>\n",
       "      <td>8.902144</td>\n",
       "      <td>1.932262</td>\n",
       "      <td>495.277168</td>\n",
       "      <td>533.341270</td>\n",
       "      <td>67.256367</td>\n",
       "      <td>0.444918</td>\n",
       "      <td>51.891678</td>\n",
       "      <td>53.036976</td>\n",
       "      <td>412.897339</td>\n",
       "    </tr>\n",
       "    <tr>\n",
       "      <th>min</th>\n",
       "      <td>1.000000</td>\n",
       "      <td>1.000000</td>\n",
       "      <td>7.000000</td>\n",
       "      <td>1.000000</td>\n",
       "      <td>-56.000000</td>\n",
       "      <td>0.000000</td>\n",
       "      <td>132.000000</td>\n",
       "      <td>113.000000</td>\n",
       "      <td>862.000000</td>\n",
       "    </tr>\n",
       "    <tr>\n",
       "      <th>25%</th>\n",
       "      <td>9.000000</td>\n",
       "      <td>2.000000</td>\n",
       "      <td>905.000000</td>\n",
       "      <td>1142.000000</td>\n",
       "      <td>-15.000000</td>\n",
       "      <td>0.000000</td>\n",
       "      <td>155.000000</td>\n",
       "      <td>143.000000</td>\n",
       "      <td>888.000000</td>\n",
       "    </tr>\n",
       "    <tr>\n",
       "      <th>50%</th>\n",
       "      <td>17.000000</td>\n",
       "      <td>4.000000</td>\n",
       "      <td>1252.000000</td>\n",
       "      <td>1523.000000</td>\n",
       "      <td>-4.000000</td>\n",
       "      <td>0.000000</td>\n",
       "      <td>168.000000</td>\n",
       "      <td>161.000000</td>\n",
       "      <td>967.000000</td>\n",
       "    </tr>\n",
       "    <tr>\n",
       "      <th>75%</th>\n",
       "      <td>24.000000</td>\n",
       "      <td>5.000000</td>\n",
       "      <td>1702.000000</td>\n",
       "      <td>1912.000000</td>\n",
       "      <td>19.000000</td>\n",
       "      <td>1.000000</td>\n",
       "      <td>252.000000</td>\n",
       "      <td>234.000000</td>\n",
       "      <td>1635.000000</td>\n",
       "    </tr>\n",
       "    <tr>\n",
       "      <th>max</th>\n",
       "      <td>31.000000</td>\n",
       "      <td>7.000000</td>\n",
       "      <td>2359.000000</td>\n",
       "      <td>2359.000000</td>\n",
       "      <td>1069.000000</td>\n",
       "      <td>1.000000</td>\n",
       "      <td>308.000000</td>\n",
       "      <td>365.000000</td>\n",
       "      <td>1846.000000</td>\n",
       "    </tr>\n",
       "  </tbody>\n",
       "</table>\n",
       "</div>"
      ],
      "text/plain": [
       "       DAY_OF_MONTH  DAY_OF_WEEK  CRS_DEP_TIME  CRS_ARR_TIME    ARR_DELAY  \\\n",
       "count   3897.000000  3897.000000   3897.000000   3897.000000  3897.000000   \n",
       "mean      16.316397     3.833718   1290.279189   1483.204003    16.257891   \n",
       "std        8.902144     1.932262    495.277168    533.341270    67.256367   \n",
       "min        1.000000     1.000000      7.000000      1.000000   -56.000000   \n",
       "25%        9.000000     2.000000    905.000000   1142.000000   -15.000000   \n",
       "50%       17.000000     4.000000   1252.000000   1523.000000    -4.000000   \n",
       "75%       24.000000     5.000000   1702.000000   1912.000000    19.000000   \n",
       "max       31.000000     7.000000   2359.000000   2359.000000  1069.000000   \n",
       "\n",
       "         ARR_DEL15  CRS_ELAPSED_TIME  ACTUAL_ELAPSED_TIME     DISTANCE  \n",
       "count  3897.000000       3897.000000          3897.000000  3897.000000  \n",
       "mean      0.271747        195.208622           185.447524  1210.371311  \n",
       "std       0.444918         51.891678            53.036976   412.897339  \n",
       "min       0.000000        132.000000           113.000000   862.000000  \n",
       "25%       0.000000        155.000000           143.000000   888.000000  \n",
       "50%       0.000000        168.000000           161.000000   967.000000  \n",
       "75%       1.000000        252.000000           234.000000  1635.000000  \n",
       "max       1.000000        308.000000           365.000000  1846.000000  "
      ]
     },
     "execution_count": 289,
     "metadata": {},
     "output_type": "execute_result"
    }
   ],
   "source": [
    "df.describe()"
   ]
  },
  {
   "cell_type": "code",
   "execution_count": 290,
   "metadata": {},
   "outputs": [
    {
     "data": {
      "text/plain": [
       "[1069,\n",
       " 1019,\n",
       " 1008,\n",
       " 951,\n",
       " 808,\n",
       " 477,\n",
       " 450,\n",
       " 450,\n",
       " 447,\n",
       " 445,\n",
       " 442,\n",
       " 438,\n",
       " 416,\n",
       " 405,\n",
       " 395,\n",
       " 393,\n",
       " 389,\n",
       " 377,\n",
       " 374,\n",
       " 366,\n",
       " 362,\n",
       " 354,\n",
       " 336,\n",
       " 333,\n",
       " 325,\n",
       " 324,\n",
       " 323,\n",
       " 322,\n",
       " 315,\n",
       " 311]"
      ]
     },
     "execution_count": 290,
     "metadata": {},
     "output_type": "execute_result"
    }
   ],
   "source": [
    "x = sorted(df[\"ARR_DELAY\"], reverse=True)\n",
    "x[:30]\n",
    "\n",
    "\n"
   ]
  },
  {
   "cell_type": "code",
   "execution_count": 291,
   "metadata": {},
   "outputs": [
    {
     "data": {
      "text/plain": [
       "[-56,\n",
       " -53,\n",
       " -51,\n",
       " -48,\n",
       " -45,\n",
       " -44,\n",
       " -43,\n",
       " -43,\n",
       " -42,\n",
       " -42,\n",
       " -41,\n",
       " -41,\n",
       " -41,\n",
       " -41,\n",
       " -41,\n",
       " -40,\n",
       " -40,\n",
       " -40,\n",
       " -40,\n",
       " -40,\n",
       " -39,\n",
       " -39,\n",
       " -38,\n",
       " -38,\n",
       " -38,\n",
       " -38,\n",
       " -38,\n",
       " -38,\n",
       " -37,\n",
       " -37]"
      ]
     },
     "execution_count": 291,
     "metadata": {},
     "output_type": "execute_result"
    }
   ],
   "source": [
    "y=sorted(df[\"ARR_DELAY\"])\n",
    "y[:30]"
   ]
  },
  {
   "cell_type": "code",
   "execution_count": 292,
   "metadata": {},
   "outputs": [
    {
     "data": {
      "text/plain": [
       "array([False])"
      ]
     },
     "execution_count": 292,
     "metadata": {},
     "output_type": "execute_result"
    }
   ],
   "source": [
    "df.duplicated().unique()"
   ]
  },
  {
   "cell_type": "code",
   "execution_count": 293,
   "metadata": {},
   "outputs": [
    {
     "data": {
      "text/plain": [
       "array(['ORD', 'SFO', 'IAH', 'DEN'], dtype=object)"
      ]
     },
     "execution_count": 293,
     "metadata": {},
     "output_type": "execute_result"
    }
   ],
   "source": [
    "df.ORIGIN.unique()"
   ]
  },
  {
   "cell_type": "code",
   "execution_count": 294,
   "metadata": {},
   "outputs": [
    {
     "data": {
      "text/plain": [
       "array(['DEN', 'IAH', 'ORD', 'SFO'], dtype=object)"
      ]
     },
     "execution_count": 294,
     "metadata": {},
     "output_type": "execute_result"
    }
   ],
   "source": [
    "df.DEST.unique()"
   ]
  },
  {
   "cell_type": "code",
   "execution_count": 295,
   "metadata": {},
   "outputs": [
    {
     "data": {
      "text/plain": [
       "array([0, 1])"
      ]
     },
     "execution_count": 295,
     "metadata": {},
     "output_type": "execute_result"
    }
   ],
   "source": [
    "df.ARR_DEL15.unique()"
   ]
  },
  {
   "cell_type": "code",
   "execution_count": 296,
   "metadata": {},
   "outputs": [
    {
     "data": {
      "image/png": "[encoded data removed]",
      "text/plain": [
       "<Figure size 720x432 with 1 Axes>"
      ]
     },
     "metadata": {
      "needs_background": "light"
     },
     "output_type": "display_data"
    }
   ],
   "source": [
    "plt.figure(figsize=(10, 6))\n",
    "sns.stripplot(data=df[[\"ARR_DELAY\", \"CRS_ELAPSED_TIME\", \"ACTUAL_ELAPSED_TIME\", \"DISTANCE\"]])\n",
    "plt.show()"
   ]
  },
  {
   "cell_type": "code",
   "execution_count": 297,
   "metadata": {},
   "outputs": [
    {
     "data": {
      "text/html": [
       "<div>\n",
       "<style scoped>\n",
       "    .dataframe tbody tr th:only-of-type {\n",
       "        vertical-align: middle;\n",
       "    }\n",
       "\n",
       "    .dataframe tbody tr th {\n",
       "        vertical-align: top;\n",
       "    }\n",
       "\n",
       "    .dataframe thead th {\n",
       "        text-align: right;\n",
       "    }\n",
       "</style>\n",
       "<table border=\"1\" class=\"dataframe\">\n",
       "  <thead>\n",
       "    <tr style=\"text-align: right;\">\n",
       "      <th></th>\n",
       "      <th>DAY_OF_MONTH</th>\n",
       "      <th>DAY_OF_WEEK</th>\n",
       "      <th>ORIGIN</th>\n",
       "      <th>DEST</th>\n",
       "      <th>CRS_DEP_TIME</th>\n",
       "      <th>CRS_ARR_TIME</th>\n",
       "      <th>ARR_DELAY</th>\n",
       "      <th>ARR_DEL15</th>\n",
       "      <th>CRS_ELAPSED_TIME</th>\n",
       "      <th>ACTUAL_ELAPSED_TIME</th>\n",
       "      <th>DISTANCE</th>\n",
       "    </tr>\n",
       "  </thead>\n",
       "  <tbody>\n",
       "    <tr>\n",
       "      <th>0</th>\n",
       "      <td>1</td>\n",
       "      <td>2</td>\n",
       "      <td>ORD</td>\n",
       "      <td>DEN</td>\n",
       "      <td>530</td>\n",
       "      <td>716</td>\n",
       "      <td>-35</td>\n",
       "      <td>0</td>\n",
       "      <td>166</td>\n",
       "      <td>137</td>\n",
       "      <td>888</td>\n",
       "    </tr>\n",
       "    <tr>\n",
       "      <th>1</th>\n",
       "      <td>1</td>\n",
       "      <td>2</td>\n",
       "      <td>ORD</td>\n",
       "      <td>DEN</td>\n",
       "      <td>1445</td>\n",
       "      <td>1640</td>\n",
       "      <td>-30</td>\n",
       "      <td>0</td>\n",
       "      <td>175</td>\n",
       "      <td>142</td>\n",
       "      <td>888</td>\n",
       "    </tr>\n",
       "    <tr>\n",
       "      <th>2</th>\n",
       "      <td>1</td>\n",
       "      <td>2</td>\n",
       "      <td>ORD</td>\n",
       "      <td>DEN</td>\n",
       "      <td>716</td>\n",
       "      <td>904</td>\n",
       "      <td>-26</td>\n",
       "      <td>0</td>\n",
       "      <td>168</td>\n",
       "      <td>138</td>\n",
       "      <td>888</td>\n",
       "    </tr>\n",
       "    <tr>\n",
       "      <th>3</th>\n",
       "      <td>1</td>\n",
       "      <td>2</td>\n",
       "      <td>ORD</td>\n",
       "      <td>DEN</td>\n",
       "      <td>1937</td>\n",
       "      <td>2118</td>\n",
       "      <td>-22</td>\n",
       "      <td>0</td>\n",
       "      <td>161</td>\n",
       "      <td>142</td>\n",
       "      <td>888</td>\n",
       "    </tr>\n",
       "    <tr>\n",
       "      <th>4</th>\n",
       "      <td>1</td>\n",
       "      <td>2</td>\n",
       "      <td>SFO</td>\n",
       "      <td>DEN</td>\n",
       "      <td>1652</td>\n",
       "      <td>2027</td>\n",
       "      <td>-19</td>\n",
       "      <td>0</td>\n",
       "      <td>155</td>\n",
       "      <td>141</td>\n",
       "      <td>967</td>\n",
       "    </tr>\n",
       "    <tr>\n",
       "      <th>...</th>\n",
       "      <td>...</td>\n",
       "      <td>...</td>\n",
       "      <td>...</td>\n",
       "      <td>...</td>\n",
       "      <td>...</td>\n",
       "      <td>...</td>\n",
       "      <td>...</td>\n",
       "      <td>...</td>\n",
       "      <td>...</td>\n",
       "      <td>...</td>\n",
       "      <td>...</td>\n",
       "    </tr>\n",
       "    <tr>\n",
       "      <th>3892</th>\n",
       "      <td>31</td>\n",
       "      <td>4</td>\n",
       "      <td>IAH</td>\n",
       "      <td>SFO</td>\n",
       "      <td>1540</td>\n",
       "      <td>1804</td>\n",
       "      <td>20</td>\n",
       "      <td>1</td>\n",
       "      <td>264</td>\n",
       "      <td>243</td>\n",
       "      <td>1635</td>\n",
       "    </tr>\n",
       "    <tr>\n",
       "      <th>3893</th>\n",
       "      <td>31</td>\n",
       "      <td>4</td>\n",
       "      <td>IAH</td>\n",
       "      <td>SFO</td>\n",
       "      <td>1031</td>\n",
       "      <td>1304</td>\n",
       "      <td>35</td>\n",
       "      <td>1</td>\n",
       "      <td>273</td>\n",
       "      <td>252</td>\n",
       "      <td>1635</td>\n",
       "    </tr>\n",
       "    <tr>\n",
       "      <th>3894</th>\n",
       "      <td>31</td>\n",
       "      <td>4</td>\n",
       "      <td>ORD</td>\n",
       "      <td>SFO</td>\n",
       "      <td>905</td>\n",
       "      <td>1142</td>\n",
       "      <td>70</td>\n",
       "      <td>1</td>\n",
       "      <td>277</td>\n",
       "      <td>264</td>\n",
       "      <td>1846</td>\n",
       "    </tr>\n",
       "    <tr>\n",
       "      <th>3895</th>\n",
       "      <td>31</td>\n",
       "      <td>4</td>\n",
       "      <td>IAH</td>\n",
       "      <td>SFO</td>\n",
       "      <td>1143</td>\n",
       "      <td>1406</td>\n",
       "      <td>81</td>\n",
       "      <td>1</td>\n",
       "      <td>263</td>\n",
       "      <td>241</td>\n",
       "      <td>1635</td>\n",
       "    </tr>\n",
       "    <tr>\n",
       "      <th>3896</th>\n",
       "      <td>31</td>\n",
       "      <td>4</td>\n",
       "      <td>DEN</td>\n",
       "      <td>SFO</td>\n",
       "      <td>1123</td>\n",
       "      <td>1311</td>\n",
       "      <td>83</td>\n",
       "      <td>1</td>\n",
       "      <td>168</td>\n",
       "      <td>149</td>\n",
       "      <td>967</td>\n",
       "    </tr>\n",
       "  </tbody>\n",
       "</table>\n",
       "<p>3897 rows × 11 columns</p>\n",
       "</div>"
      ],
      "text/plain": [
       "      DAY_OF_MONTH  DAY_OF_WEEK ORIGIN DEST  CRS_DEP_TIME  CRS_ARR_TIME  \\\n",
       "0                1            2    ORD  DEN           530           716   \n",
       "1                1            2    ORD  DEN          1445          1640   \n",
       "2                1            2    ORD  DEN           716           904   \n",
       "3                1            2    ORD  DEN          1937          2118   \n",
       "4                1            2    SFO  DEN          1652          2027   \n",
       "...            ...          ...    ...  ...           ...           ...   \n",
       "3892            31            4    IAH  SFO          1540          1804   \n",
       "3893            31            4    IAH  SFO          1031          1304   \n",
       "3894            31            4    ORD  SFO           905          1142   \n",
       "3895            31            4    IAH  SFO          1143          1406   \n",
       "3896            31            4    DEN  SFO          1123          1311   \n",
       "\n",
       "      ARR_DELAY  ARR_DEL15  CRS_ELAPSED_TIME  ACTUAL_ELAPSED_TIME  DISTANCE  \n",
       "0           -35          0               166                  137       888  \n",
       "1           -30          0               175                  142       888  \n",
       "2           -26          0               168                  138       888  \n",
       "3           -22          0               161                  142       888  \n",
       "4           -19          0               155                  141       967  \n",
       "...         ...        ...               ...                  ...       ...  \n",
       "3892         20          1               264                  243      1635  \n",
       "3893         35          1               273                  252      1635  \n",
       "3894         70          1               277                  264      1846  \n",
       "3895         81          1               263                  241      1635  \n",
       "3896         83          1               168                  149       967  \n",
       "\n",
       "[3897 rows x 11 columns]"
      ]
     },
     "execution_count": 297,
     "metadata": {},
     "output_type": "execute_result"
    }
   ],
   "source": [
    "df"
   ]
  },
  {
   "cell_type": "code",
   "execution_count": 298,
   "metadata": {},
   "outputs": [
    {
     "data": {
      "text/plain": [
       "ORIGIN  DEST\n",
       "DEN     IAH     13.276657\n",
       "        ORD      8.989865\n",
       "        SFO     26.896321\n",
       "IAH     DEN      8.375000\n",
       "        ORD      7.029412\n",
       "        SFO     29.968750\n",
       "ORD     DEN     16.712460\n",
       "        IAH     11.984227\n",
       "        SFO     21.105134\n",
       "SFO     DEN     14.992908\n",
       "        IAH     19.292683\n",
       "        ORD     17.182045\n",
       "Name: ARR_DELAY, dtype: float64"
      ]
     },
     "execution_count": 298,
     "metadata": {},
     "output_type": "execute_result"
    }
   ],
   "source": [
    "df.groupby([\"ORIGIN\", \"DEST\"]).mean()[\"ARR_DELAY\"]"
   ]
  },
  {
   "cell_type": "code",
   "execution_count": 299,
   "metadata": {},
   "outputs": [
    {
     "data": {
      "image/png": "[encoded data removed]",
      "text/plain": [
       "<Figure size 720x432 with 1 Axes>"
      ]
     },
     "metadata": {
      "needs_background": "light"
     },
     "output_type": "display_data"
    }
   ],
   "source": [
    "plt.figure(figsize=(10, 6))\n",
    "sns.boxplot(data=df[[\"ARR_DELAY\",\"CRS_ELAPSED_TIME\", \"ACTUAL_ELAPSED_TIME\"]])\n",
    "plt.show()"
   ]
  },
  {
   "cell_type": "code",
   "execution_count": null,
   "metadata": {},
   "outputs": [],
   "source": []
  },
  {
   "cell_type": "code",
   "execution_count": 300,
   "metadata": {},
   "outputs": [
    {
     "data": {
      "text/html": [
       "<div>\n",
       "<style scoped>\n",
       "    .dataframe tbody tr th:only-of-type {\n",
       "        vertical-align: middle;\n",
       "    }\n",
       "\n",
       "    .dataframe tbody tr th {\n",
       "        vertical-align: top;\n",
       "    }\n",
       "\n",
       "    .dataframe thead th {\n",
       "        text-align: right;\n",
       "    }\n",
       "</style>\n",
       "<table border=\"1\" class=\"dataframe\">\n",
       "  <thead>\n",
       "    <tr style=\"text-align: right;\">\n",
       "      <th></th>\n",
       "      <th>DAY_OF_MONTH</th>\n",
       "      <th>DAY_OF_WEEK</th>\n",
       "      <th>ORIGIN</th>\n",
       "      <th>DEST</th>\n",
       "      <th>CRS_DEP_TIME</th>\n",
       "      <th>CRS_ARR_TIME</th>\n",
       "      <th>ARR_DELAY</th>\n",
       "      <th>ARR_DEL15</th>\n",
       "      <th>CRS_ELAPSED_TIME</th>\n",
       "      <th>ACTUAL_ELAPSED_TIME</th>\n",
       "      <th>DISTANCE</th>\n",
       "    </tr>\n",
       "  </thead>\n",
       "  <tbody>\n",
       "    <tr>\n",
       "      <th>0</th>\n",
       "      <td>31</td>\n",
       "      <td>4</td>\n",
       "      <td>SFO</td>\n",
       "      <td>DEN</td>\n",
       "      <td>1418</td>\n",
       "      <td>1758</td>\n",
       "      <td>-31</td>\n",
       "      <td>0</td>\n",
       "      <td>160</td>\n",
       "      <td>137</td>\n",
       "      <td>967</td>\n",
       "    </tr>\n",
       "    <tr>\n",
       "      <th>1</th>\n",
       "      <td>31</td>\n",
       "      <td>4</td>\n",
       "      <td>DEN</td>\n",
       "      <td>IAH</td>\n",
       "      <td>1601</td>\n",
       "      <td>1926</td>\n",
       "      <td>9</td>\n",
       "      <td>0</td>\n",
       "      <td>145</td>\n",
       "      <td>134</td>\n",
       "      <td>862</td>\n",
       "    </tr>\n",
       "    <tr>\n",
       "      <th>2</th>\n",
       "      <td>31</td>\n",
       "      <td>4</td>\n",
       "      <td>ORD</td>\n",
       "      <td>DEN</td>\n",
       "      <td>1600</td>\n",
       "      <td>1748</td>\n",
       "      <td>36</td>\n",
       "      <td>1</td>\n",
       "      <td>168</td>\n",
       "      <td>155</td>\n",
       "      <td>888</td>\n",
       "    </tr>\n",
       "    <tr>\n",
       "      <th>3</th>\n",
       "      <td>31</td>\n",
       "      <td>4</td>\n",
       "      <td>ORD</td>\n",
       "      <td>SFO</td>\n",
       "      <td>1241</td>\n",
       "      <td>1531</td>\n",
       "      <td>7</td>\n",
       "      <td>0</td>\n",
       "      <td>290</td>\n",
       "      <td>291</td>\n",
       "      <td>1846</td>\n",
       "    </tr>\n",
       "    <tr>\n",
       "      <th>4</th>\n",
       "      <td>31</td>\n",
       "      <td>4</td>\n",
       "      <td>IAH</td>\n",
       "      <td>SFO</td>\n",
       "      <td>1852</td>\n",
       "      <td>2114</td>\n",
       "      <td>-6</td>\n",
       "      <td>0</td>\n",
       "      <td>262</td>\n",
       "      <td>250</td>\n",
       "      <td>1635</td>\n",
       "    </tr>\n",
       "  </tbody>\n",
       "</table>\n",
       "</div>"
      ],
      "text/plain": [
       "   DAY_OF_MONTH  DAY_OF_WEEK ORIGIN DEST  CRS_DEP_TIME  CRS_ARR_TIME  \\\n",
       "0            31            4    SFO  DEN          1418          1758   \n",
       "1            31            4    DEN  IAH          1601          1926   \n",
       "2            31            4    ORD  DEN          1600          1748   \n",
       "3            31            4    ORD  SFO          1241          1531   \n",
       "4            31            4    IAH  SFO          1852          2114   \n",
       "\n",
       "   ARR_DELAY  ARR_DEL15  CRS_ELAPSED_TIME  ACTUAL_ELAPSED_TIME  DISTANCE  \n",
       "0        -31          0               160                  137       967  \n",
       "1          9          0               145                  134       862  \n",
       "2         36          1               168                  155       888  \n",
       "3          7          0               290                  291      1846  \n",
       "4         -6          0               262                  250      1635  "
      ]
     },
     "execution_count": 300,
     "metadata": {},
     "output_type": "execute_result"
    }
   ],
   "source": [
    "import os\n",
    "os.getcwd() \n",
    "df_clean = pd.read_csv(r\"downloads/delay-UA-CLEANED.csv\", sep=';')\n",
    "df_clean.head()\n"
   ]
  },
  {
   "cell_type": "code",
   "execution_count": 301,
   "metadata": {},
   "outputs": [
    {
     "name": "stdout",
     "output_type": "stream",
     "text": [
      "<class 'pandas.core.frame.DataFrame'>\n",
      "RangeIndex: 3900 entries, 0 to 3899\n",
      "Data columns (total 11 columns):\n",
      " #   Column               Non-Null Count  Dtype \n",
      "---  ------               --------------  ----- \n",
      " 0   DAY_OF_MONTH         3900 non-null   int64 \n",
      " 1   DAY_OF_WEEK          3900 non-null   int64 \n",
      " 2   ORIGIN               3900 non-null   object\n",
      " 3   DEST                 3900 non-null   object\n",
      " 4   CRS_DEP_TIME         3900 non-null   int64 \n",
      " 5   CRS_ARR_TIME         3900 non-null   int64 \n",
      " 6   ARR_DELAY            3900 non-null   int64 \n",
      " 7   ARR_DEL15            3900 non-null   int64 \n",
      " 8   CRS_ELAPSED_TIME     3900 non-null   int64 \n",
      " 9   ACTUAL_ELAPSED_TIME  3900 non-null   int64 \n",
      " 10  DISTANCE             3900 non-null   int64 \n",
      "dtypes: int64(9), object(2)\n",
      "memory usage: 335.3+ KB\n"
     ]
    }
   ],
   "source": [
    "df_clean.info()"
   ]
  },
  {
   "cell_type": "code",
   "execution_count": 302,
   "metadata": {},
   "outputs": [
    {
     "data": {
      "image/png": "[encoded data removed]",
      "text/plain": [
       "<Figure size 720x432 with 1 Axes>"
      ]
     },
     "metadata": {
      "needs_background": "light"
     },
     "output_type": "display_data"
    }
   ],
   "source": [
    "plt.figure(figsize=(10, 6))\n",
    "sns.stripplot(data=df_clean[[\"ARR_DELAY\", \"CRS_ELAPSED_TIME\", \"ACTUAL_ELAPSED_TIME\", \"DISTANCE\"]])\n",
    "plt.show()"
   ]
  },
  {
   "cell_type": "code",
   "execution_count": 303,
   "metadata": {},
   "outputs": [
    {
     "data": {
      "image/png": "[encoded data removed]",
      "text/plain": [
       "<Figure size 720x432 with 1 Axes>"
      ]
     },
     "metadata": {
      "needs_background": "light"
     },
     "output_type": "display_data"
    }
   ],
   "source": [
    "plt.figure(figsize=(10, 6))\n",
    "sns.boxplot(data=df_clean[[\"ARR_DELAY\",\"CRS_ELAPSED_TIME\", \"ACTUAL_ELAPSED_TIME\"]])\n",
    "plt.show()"
   ]
  },
  {
   "cell_type": "code",
   "execution_count": null,
   "metadata": {},
   "outputs": [],
   "source": []
  },
  {
   "cell_type": "code",
   "execution_count": null,
   "metadata": {},
   "outputs": [],
   "source": []
  }
 ],
 "metadata": {
  "kernelspec": {
   "display_name": "Python 3",
   "language": "python",
   "name": "python3"
  },
  "language_info": {
   "codemirror_mode": {
    "name": "ipython",
    "version": 3
   },
   "file_extension": ".py",
   "mimetype": "text/x-python",
   "name": "python",
   "nbconvert_exporter": "python",
   "pygments_lexer": "ipython3",
   "version": "3.7.6"
  }
 },
 "nbformat": 4,
 "nbformat_minor": 4
}
